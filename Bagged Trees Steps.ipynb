{
 "cells": [
  {
   "cell_type": "code",
   "execution_count": 3,
   "metadata": {},
   "outputs": [],
   "source": [
    "from sklearn.model_selection import train_test_split, GridSearchCV,cross_val_score\n",
    "from sklearn.metrics import mean_squared_error, r2_score"
   ]
  },
  {
   "cell_type": "code",
   "execution_count": 37,
   "metadata": {},
   "outputs": [],
   "source": [
    "hit = pd.read_csv(\"Hitters.csv\")\n",
    "df = hit.copy()\n",
    "df = df.dropna()\n",
    "dms = pd.get_dummies(df[['League', 'Division', 'NewLeague']])\n",
    "y = df[\"Salary\"]\n",
    "X_ = df.drop(['Salary', 'League', 'Division', 'NewLeague'], axis=1).astype('float64')\n",
    "X = pd.concat([X_, dms[['League_N', 'Division_W', 'NewLeague_N']]], axis=1)\n",
    "X_train, X_test, y_train, y_test = train_test_split(X, y, \n",
    "                                                    test_size=0.25, \n",
    "                                                    random_state=42)\n",
    "\n"
   ]
  },
  {
   "cell_type": "code",
   "execution_count": 60,
   "metadata": {},
   "outputs": [
    {
     "data": {
      "text/plain": [
       "BaggingRegressor(base_estimator=None, bootstrap=True, bootstrap_features=True,\n",
       "                 max_features=1.0, max_samples=1.0, n_estimators=10,\n",
       "                 n_jobs=None, oob_score=False, random_state=None, verbose=0,\n",
       "                 warm_start=False)"
      ]
     },
     "execution_count": 60,
     "metadata": {},
     "output_type": "execute_result"
    }
   ],
   "source": [
    "from sklearn.ensemble import BaggingRegressor\n",
    "\n",
    "bag_model=BaggingRegressor(bootstrap_features=True)\n",
    "bag_model.fit(X_train,y_train)"
   ]
  },
  {
   "cell_type": "code",
   "execution_count": 39,
   "metadata": {},
   "outputs": [
    {
     "data": {
      "text/plain": [
       "10"
      ]
     },
     "execution_count": 39,
     "metadata": {},
     "output_type": "execute_result"
    }
   ],
   "source": [
    "bag_model.n_estimators"
   ]
  },
  {
   "cell_type": "code",
   "execution_count": 40,
   "metadata": {
    "collapsed": true
   },
   "outputs": [
    {
     "data": {
      "text/plain": [
       "[DecisionTreeRegressor(ccp_alpha=0.0, criterion='mse', max_depth=None,\n",
       "                       max_features=None, max_leaf_nodes=None,\n",
       "                       min_impurity_decrease=0.0, min_impurity_split=None,\n",
       "                       min_samples_leaf=1, min_samples_split=2,\n",
       "                       min_weight_fraction_leaf=0.0, presort='deprecated',\n",
       "                       random_state=388655174, splitter='best'),\n",
       " DecisionTreeRegressor(ccp_alpha=0.0, criterion='mse', max_depth=None,\n",
       "                       max_features=None, max_leaf_nodes=None,\n",
       "                       min_impurity_decrease=0.0, min_impurity_split=None,\n",
       "                       min_samples_leaf=1, min_samples_split=2,\n",
       "                       min_weight_fraction_leaf=0.0, presort='deprecated',\n",
       "                       random_state=1375400089, splitter='best'),\n",
       " DecisionTreeRegressor(ccp_alpha=0.0, criterion='mse', max_depth=None,\n",
       "                       max_features=None, max_leaf_nodes=None,\n",
       "                       min_impurity_decrease=0.0, min_impurity_split=None,\n",
       "                       min_samples_leaf=1, min_samples_split=2,\n",
       "                       min_weight_fraction_leaf=0.0, presort='deprecated',\n",
       "                       random_state=474417527, splitter='best'),\n",
       " DecisionTreeRegressor(ccp_alpha=0.0, criterion='mse', max_depth=None,\n",
       "                       max_features=None, max_leaf_nodes=None,\n",
       "                       min_impurity_decrease=0.0, min_impurity_split=None,\n",
       "                       min_samples_leaf=1, min_samples_split=2,\n",
       "                       min_weight_fraction_leaf=0.0, presort='deprecated',\n",
       "                       random_state=708388099, splitter='best'),\n",
       " DecisionTreeRegressor(ccp_alpha=0.0, criterion='mse', max_depth=None,\n",
       "                       max_features=None, max_leaf_nodes=None,\n",
       "                       min_impurity_decrease=0.0, min_impurity_split=None,\n",
       "                       min_samples_leaf=1, min_samples_split=2,\n",
       "                       min_weight_fraction_leaf=0.0, presort='deprecated',\n",
       "                       random_state=1931017820, splitter='best'),\n",
       " DecisionTreeRegressor(ccp_alpha=0.0, criterion='mse', max_depth=None,\n",
       "                       max_features=None, max_leaf_nodes=None,\n",
       "                       min_impurity_decrease=0.0, min_impurity_split=None,\n",
       "                       min_samples_leaf=1, min_samples_split=2,\n",
       "                       min_weight_fraction_leaf=0.0, presort='deprecated',\n",
       "                       random_state=134918956, splitter='best'),\n",
       " DecisionTreeRegressor(ccp_alpha=0.0, criterion='mse', max_depth=None,\n",
       "                       max_features=None, max_leaf_nodes=None,\n",
       "                       min_impurity_decrease=0.0, min_impurity_split=None,\n",
       "                       min_samples_leaf=1, min_samples_split=2,\n",
       "                       min_weight_fraction_leaf=0.0, presort='deprecated',\n",
       "                       random_state=1092980517, splitter='best'),\n",
       " DecisionTreeRegressor(ccp_alpha=0.0, criterion='mse', max_depth=None,\n",
       "                       max_features=None, max_leaf_nodes=None,\n",
       "                       min_impurity_decrease=0.0, min_impurity_split=None,\n",
       "                       min_samples_leaf=1, min_samples_split=2,\n",
       "                       min_weight_fraction_leaf=0.0, presort='deprecated',\n",
       "                       random_state=1752592266, splitter='best'),\n",
       " DecisionTreeRegressor(ccp_alpha=0.0, criterion='mse', max_depth=None,\n",
       "                       max_features=None, max_leaf_nodes=None,\n",
       "                       min_impurity_decrease=0.0, min_impurity_split=None,\n",
       "                       min_samples_leaf=1, min_samples_split=2,\n",
       "                       min_weight_fraction_leaf=0.0, presort='deprecated',\n",
       "                       random_state=900513068, splitter='best'),\n",
       " DecisionTreeRegressor(ccp_alpha=0.0, criterion='mse', max_depth=None,\n",
       "                       max_features=None, max_leaf_nodes=None,\n",
       "                       min_impurity_decrease=0.0, min_impurity_split=None,\n",
       "                       min_samples_leaf=1, min_samples_split=2,\n",
       "                       min_weight_fraction_leaf=0.0, presort='deprecated',\n",
       "                       random_state=1771259151, splitter='best')]"
      ]
     },
     "execution_count": 40,
     "metadata": {},
     "output_type": "execute_result"
    }
   ],
   "source": [
    "bag_model.estimators_   #different trees"
   ]
  },
  {
   "cell_type": "code",
   "execution_count": 41,
   "metadata": {
    "collapsed": true
   },
   "outputs": [
    {
     "data": {
      "text/plain": [
       "[array([ 46,  63,   4,  64,  41, 170,   9,  10, 106,  45,  49,  39, 173,\n",
       "         35, 115, 121, 104,  48,  56,  85, 123, 122,  53,  52,  31,  57,\n",
       "         18,  84, 109,  68,  36, 141,  18, 186, 118, 193,   4, 189, 183,\n",
       "         81, 142,  29,  16, 154, 165,  64,  90, 173, 142,  45, 142,  88,\n",
       "         35, 164,  81,  74, 161, 173,  66,  34, 136, 193, 145, 177, 119,\n",
       "        173, 140, 192, 118, 177,  12,  28, 171,   0, 175,  12, 123, 193,\n",
       "        163,  73,  98,  61,  30,  27,  92,   0, 108,  50,  93,  96, 189,\n",
       "        142,  37, 118,  71, 166, 154, 121, 112, 113, 166, 168, 144,  21,\n",
       "         30, 104, 103,  86,   9, 116,  80,  10,  87, 129, 181,  86,  78,\n",
       "        130,  93, 170,  13,  33,   2, 143,  25,  70,  85, 185, 189,  31,\n",
       "         68,  51,   8,  21, 105, 164, 164,  39,  47, 124,  98, 133, 154,\n",
       "         45,  81, 137, 145, 194,  22, 193, 113, 135,  26, 171, 196, 154,\n",
       "         69, 150, 130, 131,   1, 193,  32,   5, 110, 111, 176,  31, 138,\n",
       "         97, 194,  18,   9,  25,  42,  81,  76,  91,  45,  19,  52, 102,\n",
       "         77, 172,  48,   0, 157, 128, 110, 100,  64,  97, 181, 179,  97,\n",
       "         66, 192]),\n",
       " array([ 96, 137, 133,  88, 168,  31, 184,  29, 174,  53, 165,  53, 184,\n",
       "         53,   1,  75, 120,   2,  23, 140,  52, 175,  93,  40,   0, 182,\n",
       "        136, 193,  42, 124,  22,  10,  21, 155,  46,  43,   8,  62,   8,\n",
       "        121, 183,  39, 195, 170,  95,  62,  51, 192, 123, 140, 105,  62,\n",
       "        188,  99, 142, 162,  62, 168, 103,  33, 159,  64, 108,  87, 172,\n",
       "        153, 110,  85, 186, 157, 111, 108,  91,  58,  79,  71,  96, 158,\n",
       "         72, 135, 151, 107, 151,  85,   4,  90,  28, 137, 183, 181, 172,\n",
       "         99,  85, 192, 130,  45,  52, 174, 155, 146, 157,  46, 103,  41,\n",
       "          2, 120, 184, 188,  54,  37,  97,  88,  43, 102, 151, 137,  50,\n",
       "        159,  90, 105, 148, 106,   9,  45, 186, 151,  26,  40, 146, 166,\n",
       "         74, 183,  75,  69,  32, 124,  30, 166,  26,  40, 192, 164, 120,\n",
       "         34, 167,  17, 137, 194, 178, 171, 108,   6, 130,  49, 183,  20,\n",
       "         46, 131, 190,   4, 114,  64,  87,  54, 105, 122,  31, 105, 119,\n",
       "        119,  72, 112,  28,  50,  27, 100, 124, 152,  23, 128,   4,  16,\n",
       "         57,   4, 142,  95, 153, 194, 183,  54, 120,  48,  88, 145, 143,\n",
       "         30, 119]),\n",
       " array([116,  97, 119,  15,  61,  33,  23,  45,  39, 178, 124,  44,  38,\n",
       "         26, 116,   1,  97, 131,  98, 115, 131, 103,  81,  39,  57,  17,\n",
       "        112,  41, 121, 129,   1,  56,  27,  73,  80,  62,  35, 117, 142,\n",
       "          2,  54,  71, 100, 149, 104,  79,  45, 156, 195,  42,   9, 190,\n",
       "        192, 188, 113,  46, 195,  38, 127, 192,  91, 124,  33,  10, 194,\n",
       "        150,  61,  54,   3, 165,   5, 132,  15,   3, 154, 105,  58, 146,\n",
       "        180,  29,  57,  95,  21, 161,  28, 147,  83,  42, 184,  55,  32,\n",
       "        131, 117, 164,  80, 120, 143, 168,  58,  32, 179, 188,  41,  57,\n",
       "        107, 186,  21, 124, 138,  94, 176,   6, 182, 143,  51,  62, 171,\n",
       "        160, 178,  75,  74, 113,  19,  67, 193, 159, 107, 131, 188,  52,\n",
       "          2,  55,   1,  89, 115, 112,  29,  22, 110,  34,  94, 153, 112,\n",
       "         79,  42,   6, 149,  68,  59,  82,  58,  39, 177,  66,  28,  99,\n",
       "        180, 106,  59,  57, 169,   3, 123, 149,   8, 169,  21, 169,  31,\n",
       "         74, 108,  42,  71,  67, 143, 189, 127, 175,  98, 125, 135,  81,\n",
       "         53,  11,  60,  95, 159, 143,   1, 102, 108,  98,  51, 104,  39,\n",
       "        167,  88]),\n",
       " array([  7, 139, 107, 155,  44, 150,   1,  47, 121, 131,  14,  41, 106,\n",
       "         68,  53, 170,  46, 108,  93,  11,  40,   7,  91,  88,  71,  49,\n",
       "         46,  40,  52, 192, 183,  34, 133, 123,  30, 148,  35, 147, 178,\n",
       "         79,  23,   4, 166, 162, 180, 170,  88,  80,  54, 142, 131,   2,\n",
       "         41,  69, 110, 193, 147, 129, 150, 188, 185,  12,  49, 131, 137,\n",
       "          5, 142,  80, 107, 177, 185, 120,  69,  59, 155,  13, 189,   7,\n",
       "         67,  18,  31,  50,  14, 184,  99,  29, 181,  64,  75,  84,  36,\n",
       "        137, 113, 177, 109, 109, 125, 126,  42,  73,  54, 148, 167, 114,\n",
       "        109, 138,  22, 161, 138,  25,  96, 168, 158, 124, 167, 124,  22,\n",
       "        171, 110,  17,  63,  77,  38, 108,  35, 140, 177,  67, 171,  68,\n",
       "         38,  22, 131,  47, 136,  39, 116,  12, 111, 129, 184,  98,  93,\n",
       "        155, 152,  95,  36, 131,  30, 179, 173,  45,  60, 163,  12, 190,\n",
       "        170,  88,  45, 169,   8, 104, 189,  79,   6, 148,   2,  82,  45,\n",
       "         21,  41,  61,  28, 182,  24, 100, 125, 109, 185, 184,  87, 164,\n",
       "        161, 101,  13, 195, 149,  55, 101,  27,  93,  97, 139,   4, 132,\n",
       "        155,  10]),\n",
       " array([ 19,  55,  43,  69, 173, 147, 153,  81, 150,  22,  88, 190,  74,\n",
       "         49,  13, 136, 146, 122,  68,  81, 150, 152, 134,  62, 107, 192,\n",
       "         46, 108,  36,  62,  73, 101, 193, 101, 112,  79,  16,  68,  65,\n",
       "        119,  91,  19, 155, 138, 121,  88,  44, 175, 138, 106, 177,  80,\n",
       "        187, 148, 178, 127, 126,  92, 194,  89, 185, 184, 117, 125, 195,\n",
       "         33,  30, 131, 158,  69, 178,   1,  79,  67, 154, 159, 192, 191,\n",
       "        164, 129, 151,  10, 161,  27,   9,  68, 159,  73, 109,   6,  80,\n",
       "        151,  16,  19, 169,  61,  41,  25, 182,  12,  93,   9,  84, 190,\n",
       "        144, 173,  60, 154,  74,  37, 153,  75, 111,  37,  32, 156,  78,\n",
       "        124,  92, 130, 112,  85, 134, 117,  46, 191,  85,  83, 145,  98,\n",
       "        124, 176,  99, 149,  67, 143, 179,  93,  86,  22, 163,  82,  32,\n",
       "         47, 113,   2, 110,  73,  29, 155, 143, 125,  79,  84, 154,  52,\n",
       "         27,  56, 176, 161, 158,   7, 134,  57, 101, 178,  83,  34,  36,\n",
       "         51, 136, 146, 195,  96,  79, 192, 131, 174, 171,  80, 155, 191,\n",
       "         21,  63, 187,  77, 173, 109,  13, 172, 104, 191,  84,  55, 153,\n",
       "         44,  80]),\n",
       " array([165, 130,  12,  45,   8,  15, 116,  18, 136, 133, 123,  32,  83,\n",
       "          3, 186,  70, 175,  65, 173, 138,  31, 141,   0,  36,  57,  47,\n",
       "         55,  29,  28,  69,  85,  15,   7, 112,  55,  65, 115, 105,  97,\n",
       "         65, 100,  97,  83,  69,  55,  19, 157, 128,  33, 126,  86,  64,\n",
       "         15, 131,  17, 128, 180,  39, 131, 143, 111,  81, 190, 157,  34,\n",
       "         65,  57,  37,  94, 190,   2, 181, 137,  39,  87, 195,  50,   2,\n",
       "         47, 156, 154,   2,  33,  44,  85, 196,  14,  75,  15, 117,  57,\n",
       "        112,  86, 110,  29, 129, 174,  55, 191, 173,  11,  76, 145, 134,\n",
       "        196,  40,  86, 196,  47,  59,  39,   5,  39, 159, 116,  28,  39,\n",
       "        169, 181, 112, 165,  30,  79,  13,  24, 132,  42,  94, 184, 150,\n",
       "         76, 189,  77, 114,  90,  28,  76,  89, 175,  53,  86, 155, 177,\n",
       "         19, 160,  12,   8, 182, 136, 140, 171, 140, 187,  15,  70,  45,\n",
       "        159, 107,  47, 131,  12,  82, 168,  24,  87, 182, 177,  94,  55,\n",
       "          8,  20,  67,  31, 125,  41, 162, 130, 141, 129, 173,  98,  11,\n",
       "         42,  79, 171,   5, 108, 185,  34,   7,  57, 167,  21,  61,  76,\n",
       "         29,  22]),\n",
       " array([ 38, 157, 100, 116,  35,  76,   6,  33, 191,  40,  62,   8, 112,\n",
       "         53, 147,  38, 195,  91,   3,  57,  20,  27,  75, 123,  90, 174,\n",
       "         44,  17,  57,  44,  24, 178,  20,  86,  56,  43, 130, 108, 191,\n",
       "        129, 149, 167,  39, 185,  52,  74,  31, 182,  57,  70,   1, 188,\n",
       "         66, 124, 127, 128,   9, 170, 160, 131,  91,  55,  17,  35, 113,\n",
       "        130,  10, 195, 136,  56,  76,  17,  70,  91,   8,  39, 106, 133,\n",
       "         43,   8,   8,  51, 174, 182,  27, 154, 191,  32, 172,  43,   7,\n",
       "        130, 109,  64,  60,  26,  23, 186, 193,  99,  44,  37,  94,  65,\n",
       "         32,  22, 174, 164, 180,  15,  62, 175,  50, 157,  21,  53,  55,\n",
       "        125, 188, 172, 133,  31,  78, 112,  73, 120,  94,  92,  53,  65,\n",
       "        186,  43, 111,  77,  65,  92,  99,   2, 155, 110, 121,  95, 131,\n",
       "         72, 160, 175,   4, 114, 165,  36,  14,  72, 183, 116, 120,  94,\n",
       "        137, 185, 144,  99,  78, 171,  45, 124,  86, 116, 110, 120, 130,\n",
       "        192,  88, 125,   6, 162, 123,  76,  24, 126, 101,  88,  85,  42,\n",
       "         37,  76,  72, 170, 158, 174, 166,  91,  20, 161,  10,  31,  61,\n",
       "         89, 188]),\n",
       " array([  9,  13, 191, 191,  44,  98, 137,  28, 150,   2, 186,  94, 160,\n",
       "        140, 102, 164, 171,  86, 121, 120, 129,   2, 137, 100, 131, 149,\n",
       "        190,   9,  26,  57,  19, 141,  84,  34,  23,  36, 138, 104, 138,\n",
       "          0, 156, 145, 177,  46,  41, 100, 116, 120,  47,   0, 159,  95,\n",
       "        146, 109,  79, 174, 176, 192, 107, 101,  82,  35, 183,  26, 136,\n",
       "         16, 106, 131,  36,  76,  86,  76, 183, 100,  81, 114, 120, 169,\n",
       "         31, 133, 158,  22, 109, 133,  24,  57,  80,  11, 137, 107,  37,\n",
       "         24,  20, 118, 121, 187,  53, 117, 165, 160,  67, 103, 129,  83,\n",
       "         64, 189,  81,  40,  28, 169, 118, 126,  78,  21, 156, 158, 145,\n",
       "        184,  75, 154,  19, 113,  53, 166,  56,  39,  77,  52,  96, 104,\n",
       "         67, 163, 150, 130, 147,  37, 140,   3, 155,  50,   5, 148,  27,\n",
       "        124,  61,  58, 124,   7,  11,  95,  63, 132,   4,  14, 118, 149,\n",
       "        113,  97,  83,  50, 106, 128,  74,  65, 123, 119,  66, 115, 160,\n",
       "         49, 177,  98, 180,  97,  19, 124,  10,  19, 160,  79, 150, 162,\n",
       "         82,  58, 108, 186, 152, 162, 136,  57, 143, 131,  65,  98,  28,\n",
       "         54, 174]),\n",
       " array([161,  39, 155,  68,  33,  70, 158,  50,  30,  93, 160, 181,  73,\n",
       "        112, 164, 140, 182, 124,  77,  21, 168, 168, 127, 192, 187,  33,\n",
       "         86, 122, 188,  11, 134,  88, 146,  73, 181,  37, 145, 162,  19,\n",
       "         54,  90,  65,  93,  47, 102,  74,   5, 126, 161, 121, 164, 181,\n",
       "         43,  63, 123,  49,   9,  58, 112,  81,  94, 145,  69, 125,  24,\n",
       "        109,  40,  52,  20, 154, 102,  14, 125, 133, 179,  93, 145,  94,\n",
       "         74, 120, 165,  15,  55, 120,  41, 184,  42, 131,  78,  53,  86,\n",
       "        103,  31,  21,  81, 167, 106,  13,  19,  32, 111, 106, 134,  73,\n",
       "        116, 118, 159,  88, 182,  84, 132, 109, 107,  82, 149, 100, 173,\n",
       "        165, 112, 175, 125, 154,  70, 107,  63,  37,  45,  44, 115,  19,\n",
       "         96,  25,  75, 104,   4, 179,  34, 191,  15,  88, 129,  87, 174,\n",
       "         99,  89, 147, 140,  68, 131, 107,  73,   7,  79,  62,  27,  97,\n",
       "        126, 186,  64,  75,  16,  85,  95,  46, 129,  34,  70,  46, 184,\n",
       "         60,  26, 116,  53,  51, 160, 135, 142,  81,   2,  59,  14, 119,\n",
       "         25,   2,  87, 150, 151,  42, 171, 106, 143,  45, 105, 139,  37,\n",
       "        133, 129]),\n",
       " array([110,  81,  27,  13, 180,  62,  32, 171, 186,  34,  48,   7,  85,\n",
       "        120, 181, 188, 179,   7, 191, 147,  35,  48,  99,  49, 151, 115,\n",
       "        114, 165, 196,  33,  34,  37,  59, 154,  68, 181, 113, 142, 162,\n",
       "        121,  39, 152, 187,  86,  54, 147,  12, 107, 145,  89,  62,  67,\n",
       "        118, 100, 192,  40,  65,  32,   6,   3, 192, 138, 158, 145, 100,\n",
       "         87, 128,  63, 156,  25,  37,  95, 164, 178,  76,  52, 107, 102,\n",
       "          3, 145,  84, 172, 167,   7, 108,  58, 102, 181,  85,  70, 101,\n",
       "        176, 141,  62,  91,  65,  73,  95, 109,  55,  95, 146,  41,  39,\n",
       "         64, 125,  14,  21,  48,  63, 185,  38,  93, 181,  17,  79,  22,\n",
       "         18,  52,  89,  69, 138,  20, 139, 185,  96,  45,  22, 168, 126,\n",
       "        164,  98, 135,  85, 175, 122, 134,  23, 111, 124, 142,  79,  66,\n",
       "         51,  99,  19, 126,  65,  98,  35,  66,  37,  61,  90, 174, 101,\n",
       "        168,  55,  68, 195, 116,  73,   8, 193,  44, 143,  20,  22,  97,\n",
       "        130,   7, 152,  92,  85,  32, 183, 188,  99,  82, 158, 114, 111,\n",
       "         57,  85,   3, 134,  45, 110, 168,  83,  33,  29,  13, 101, 127,\n",
       "        151,  90])]"
      ]
     },
     "execution_count": 41,
     "metadata": {},
     "output_type": "execute_result"
    }
   ],
   "source": [
    "bag_model.estimators_samples_"
   ]
  },
  {
   "cell_type": "code",
   "execution_count": 42,
   "metadata": {
    "collapsed": true
   },
   "outputs": [
    {
     "data": {
      "text/plain": [
       "[array([ 3, 17,  8,  8, 17,  8,  1,  2, 14,  1,  3,  5,  9, 10,  8,  2,  4,\n",
       "        16, 14]),\n",
       " array([ 5, 14, 17, 10, 12,  0, 10, 17,  2,  6, 16,  1,  9,  1,  1, 16,  9,\n",
       "         6,  1]),\n",
       " array([11, 11,  9, 17, 13, 13,  9,  3, 13, 11,  9, 17, 17,  3,  1, 11, 18,\n",
       "        12,  5]),\n",
       " array([ 3, 13,  7, 16,  8, 13,  6, 13, 10,  6,  3, 11, 17, 18,  1,  0,  8,\n",
       "        12,  6]),\n",
       " array([16,  6,  8, 12,  3,  7, 12, 16,  1, 16,  9, 16,  9, 17, 17, 11,  4,\n",
       "         2, 12]),\n",
       " array([12, 14, 12,  8, 17, 15, 18, 13, 17,  6, 17,  4,  7,  5, 16, 15, 11,\n",
       "        13,  5]),\n",
       " array([ 3, 15, 16, 15, 10,  4,  8,  5, 16, 18,  9,  5, 17, 12, 12, 17,  5,\n",
       "         6,  2]),\n",
       " array([ 9, 12,  0, 11,  9, 16, 13, 16, 18, 14,  1, 18,  5,  9,  7, 12, 17,\n",
       "         0,  9]),\n",
       " array([ 8, 12,  3, 13,  1,  2, 18, 18, 14, 14,  4, 10, 10, 15,  6, 16, 17,\n",
       "        10,  1]),\n",
       " array([ 8,  7,  4, 12,  3,  6, 12,  1, 18, 10,  3, 10, 10, 10,  4, 17, 17,\n",
       "        17, 14])]"
      ]
     },
     "execution_count": 42,
     "metadata": {},
     "output_type": "execute_result"
    }
   ],
   "source": [
    "bag_model.estimators_features_"
   ]
  },
  {
   "cell_type": "code",
   "execution_count": 43,
   "metadata": {},
   "outputs": [
    {
     "data": {
      "text/plain": [
       "DecisionTreeRegressor(ccp_alpha=0.0, criterion='mse', max_depth=None,\n",
       "                      max_features=None, max_leaf_nodes=None,\n",
       "                      min_impurity_decrease=0.0, min_impurity_split=None,\n",
       "                      min_samples_leaf=1, min_samples_split=2,\n",
       "                      min_weight_fraction_leaf=0.0, presort='deprecated',\n",
       "                      random_state=388655174, splitter='best')"
      ]
     },
     "execution_count": 43,
     "metadata": {},
     "output_type": "execute_result"
    }
   ],
   "source": [
    "bag_model.estimators_[0]"
   ]
  },
  {
   "cell_type": "markdown",
   "metadata": {},
   "source": [
    "# Prediction"
   ]
  },
  {
   "cell_type": "code",
   "execution_count": 61,
   "metadata": {},
   "outputs": [],
   "source": [
    "import numpy as np\n",
    "y_pred=bag_model.predict(X_test)"
   ]
  },
  {
   "cell_type": "code",
   "execution_count": 62,
   "metadata": {},
   "outputs": [
    {
     "data": {
      "text/plain": [
       "354.934826827668"
      ]
     },
     "execution_count": 62,
     "metadata": {},
     "output_type": "execute_result"
    }
   ],
   "source": [
    "np.sqrt(mean_squared_error(y_test,y_pred))"
   ]
  },
  {
   "cell_type": "code",
   "execution_count": null,
   "metadata": {},
   "outputs": [],
   "source": [
    "#example"
   ]
  },
  {
   "cell_type": "code",
   "execution_count": 63,
   "metadata": {},
   "outputs": [],
   "source": [
    "second_y_pred=bag_model.estimators_[1].fit(X_train,y_train).predict(X_test)"
   ]
  },
  {
   "cell_type": "code",
   "execution_count": 64,
   "metadata": {},
   "outputs": [
    {
     "data": {
      "text/plain": [
       "478.5444088270242"
      ]
     },
     "execution_count": 64,
     "metadata": {},
     "output_type": "execute_result"
    }
   ],
   "source": [
    "np.sqrt(mean_squared_error(second_y_pred,y_test))"
   ]
  },
  {
   "cell_type": "markdown",
   "metadata": {},
   "source": [
    "# Model Tuning"
   ]
  },
  {
   "cell_type": "code",
   "execution_count": 66,
   "metadata": {},
   "outputs": [],
   "source": [
    "bag_params={\"n_estimators\": range(2,20)}"
   ]
  },
  {
   "cell_type": "code",
   "execution_count": 67,
   "metadata": {},
   "outputs": [],
   "source": [
    "bag_cv_model= GridSearchCV(bag_model, bag_params,cv=10)"
   ]
  },
  {
   "cell_type": "code",
   "execution_count": 69,
   "metadata": {},
   "outputs": [
    {
     "data": {
      "text/plain": [
       "GridSearchCV(cv=10, error_score=nan,\n",
       "             estimator=BaggingRegressor(base_estimator=None, bootstrap=True,\n",
       "                                        bootstrap_features=True,\n",
       "                                        max_features=1.0, max_samples=1.0,\n",
       "                                        n_estimators=10, n_jobs=None,\n",
       "                                        oob_score=False, random_state=None,\n",
       "                                        verbose=0, warm_start=False),\n",
       "             iid='deprecated', n_jobs=None,\n",
       "             param_grid={'n_estimators': range(2, 20)}, pre_dispatch='2*n_jobs',\n",
       "             refit=True, return_train_score=False, scoring=None, verbose=0)"
      ]
     },
     "execution_count": 69,
     "metadata": {},
     "output_type": "execute_result"
    }
   ],
   "source": [
    "bag_cv_model.fit(X_train,y_train)"
   ]
  },
  {
   "cell_type": "code",
   "execution_count": 71,
   "metadata": {},
   "outputs": [
    {
     "data": {
      "text/plain": [
       "{'n_estimators': 12}"
      ]
     },
     "execution_count": 71,
     "metadata": {},
     "output_type": "execute_result"
    }
   ],
   "source": [
    "bag_cv_model.best_params_"
   ]
  },
  {
   "cell_type": "code",
   "execution_count": 72,
   "metadata": {},
   "outputs": [],
   "source": [
    "bag_tuned=BaggingRegressor(n_estimators= 12,random_state=45)"
   ]
  },
  {
   "cell_type": "code",
   "execution_count": 74,
   "metadata": {},
   "outputs": [
    {
     "data": {
      "text/plain": [
       "BaggingRegressor(base_estimator=None, bootstrap=True, bootstrap_features=False,\n",
       "                 max_features=1.0, max_samples=1.0, n_estimators=12,\n",
       "                 n_jobs=None, oob_score=False, random_state=45, verbose=0,\n",
       "                 warm_start=False)"
      ]
     },
     "execution_count": 74,
     "metadata": {},
     "output_type": "execute_result"
    }
   ],
   "source": [
    "bag_tuned.fit(X_train,y_train)"
   ]
  },
  {
   "cell_type": "code",
   "execution_count": 76,
   "metadata": {},
   "outputs": [
    {
     "data": {
      "text/plain": [
       "349.06722149329255"
      ]
     },
     "execution_count": 76,
     "metadata": {},
     "output_type": "execute_result"
    }
   ],
   "source": [
    "y_pred=bag_tuned.predict(X_test)\n",
    "np.sqrt(mean_squared_error(y_pred,y_test))"
   ]
  },
  {
   "cell_type": "code",
   "execution_count": null,
   "metadata": {},
   "outputs": [],
   "source": []
  },
  {
   "cell_type": "code",
   "execution_count": null,
   "metadata": {},
   "outputs": [],
   "source": []
  },
  {
   "cell_type": "code",
   "execution_count": null,
   "metadata": {},
   "outputs": [],
   "source": []
  }
 ],
 "metadata": {
  "kernelspec": {
   "display_name": "Python 3",
   "language": "python",
   "name": "python3"
  },
  "language_info": {
   "codemirror_mode": {
    "name": "ipython",
    "version": 3
   },
   "file_extension": ".py",
   "mimetype": "text/x-python",
   "name": "python",
   "nbconvert_exporter": "python",
   "pygments_lexer": "ipython3",
   "version": "3.7.6"
  }
 },
 "nbformat": 4,
 "nbformat_minor": 4
}
